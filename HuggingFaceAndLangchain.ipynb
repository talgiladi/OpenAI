{
 "cells": [
  {
   "cell_type": "code",
   "execution_count": null,
   "metadata": {},
   "outputs": [],
   "source": [
    "import langchain\n",
    "from langchain.llms import OpenAI\n",
    "import os\n",
    "\n",
    "openai_apikey = \"\"\n",
    "with open('openaikey.txt',\"r\") as file:\n",
    "    openai_apikey = file.readline().strip()\n",
    "    os.environ[\"OPENAI_API_KEY\"] = openai_apikey\n",
    "client= OpenAI(api_key= openai_apikey)"
   ]
  }
 ],
 "metadata": {
  "kernelspec": {
   "display_name": "testingopenai",
   "language": "python",
   "name": "python3"
  },
  "language_info": {
   "name": "python",
   "version": "3.10.14"
  }
 },
 "nbformat": 4,
 "nbformat_minor": 2
}
