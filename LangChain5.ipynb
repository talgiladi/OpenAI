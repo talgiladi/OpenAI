{
 "cells": [
  {
   "cell_type": "code",
   "execution_count": 2,
   "metadata": {},
   "outputs": [
    {
     "name": "stderr",
     "output_type": "stream",
     "text": [
      "c:\\Users\\write\\anaconda3\\envs\\testingopenai\\lib\\site-packages\\langchain_core\\_api\\deprecation.py:117: LangChainDeprecationWarning: The class `langchain_community.llms.openai.OpenAI` was deprecated in langchain-community 0.0.10 and will be removed in 0.2.0. An updated version of the class exists in the langchain-openai package and should be used instead. To use it run `pip install -U langchain-openai` and import as `from langchain_openai import OpenAI`.\n",
      "  warn_deprecated(\n"
     ]
    }
   ],
   "source": [
    "import langchain\n",
    "from langchain.llms import OpenAI\n",
    "import os\n",
    "\n",
    "openai_apikey = \"\"\n",
    "with open('openaikey.txt',\"r\") as file:\n",
    "    openai_apikey = file.readline().strip()\n",
    "    os.environ[\"OPENAI_API_KEY\"] = openai_apikey\n",
    "client= OpenAI(api_key= openai_apikey)"
   ]
  },
  {
   "cell_type": "code",
   "execution_count": 16,
   "metadata": {},
   "outputs": [
    {
     "name": "stdout",
     "output_type": "stream",
     "text": [
      "input_variables=['product'] template='suggest a name for a company that makes {product}'\n",
      "\n"
     ]
    }
   ],
   "source": [
    "from langchain.prompts import PromptTemplate\n",
    "from langchain.chains import LLMChain\n",
    "from langchain.chains import SequentialChain\n",
    "from langchain.chains import SimpleSequentialChain\n",
    "from langchain.memory import ConversationBufferMemory\n",
    "name_template = PromptTemplate.from_template(\"suggest a name for a company that makes {product}\")\n",
    "memory = ConversationBufferMemory()\n",
    "chain = LLMChain(llm = client, prompt = name_template, memory = memory, verbose = True)\n",
    "print(chain.prompt)\n",
    "print(chain.memory.buffer)\n",
    "#chain.run(\"drones\")"
   ]
  },
  {
   "cell_type": "code",
   "execution_count": 5,
   "metadata": {},
   "outputs": [
    {
     "name": "stdout",
     "output_type": "stream",
     "text": [
      "\n",
      "\n",
      "\u001b[1m> Entering new LLMChain chain...\u001b[0m\n",
      "Prompt after formatting:\n",
      "\u001b[32;1m\u001b[1;3msuggest a name for a company that makes and suggest a slogan for that name\u001b[0m\n",
      "\n",
      "\u001b[1m> Finished chain.\u001b[0m\n"
     ]
    },
    {
     "data": {
      "text/plain": [
       "'\\n\\nName: \"InnovateWorks\"\\n\\nSlogan: \"Where innovation meets excellence\"'"
      ]
     },
     "execution_count": 5,
     "metadata": {},
     "output_type": "execute_result"
    }
   ],
   "source": [
    "chain.run(\"and suggest a slogan for that name\")"
   ]
  },
  {
   "cell_type": "code",
   "execution_count": 17,
   "metadata": {},
   "outputs": [
    {
     "name": "stdout",
     "output_type": "stream",
     "text": [
      "The following is a friendly conversation between a human and an AI. The AI is talkative and provides lots of specific details from its context. If the AI does not know the answer to a question, it truthfully says it does not know.\n",
      "\n",
      "Current conversation:\n",
      "{history}\n",
      "Human: {input}\n",
      "AI:\n"
     ]
    },
    {
     "data": {
      "text/plain": [
       "' How about \"Tel Aviv Bites\"? It\\'s a play on the city of Tel Aviv, which is known for its vibrant food scene. The name also implies that the restaurant offers a variety of small dishes or bites, which is a popular dining style in Israel.'"
      ]
     },
     "execution_count": 17,
     "metadata": {},
     "output_type": "execute_result"
    }
   ],
   "source": [
    "from langchain.chains import ConversationChain\n",
    "chain = ConversationChain(llm = client)\n",
    "print(chain.prompt.template)\n",
    "chain.run(\"suggest a name for an Israeli restaurant\")"
   ]
  },
  {
   "cell_type": "code",
   "execution_count": 21,
   "metadata": {},
   "outputs": [
    {
     "name": "stdout",
     "output_type": "stream",
     "text": [
      " Hmmm... how about \"From the streets of Tel Aviv to your plate\"? This slogan emphasizes the authentic and cultural aspect of the restaurant's cuisine, as well as the freshness and quality of the ingredients. It also ties back to the restaurant's name, creating a cohesive brand image.\n",
      "chat_memory=ChatMessageHistory(messages=[HumanMessage(content='suggest a name for an Israeli restaurant'), AIMessage(content=' How about \"Tel Aviv Bites\"? It\\'s a play on the city of Tel Aviv, which is known for its vibrant food scene. The name also implies that the restaurant offers a variety of small dishes or bites, which is a popular dining style in Israel.'), HumanMessage(content='now suggest a slogan'), AIMessage(content=' Sure! How about \"Taste the flavors of Israel in every bite!\" This slogan highlights the diverse and flavorful cuisine of Israel while also incorporating the restaurant\\'s name. It\\'s catchy and memorable, perfect for attracting customers.'), HumanMessage(content='now suggest a slogan'), AIMessage(content=' Hmmm... how about \"From the streets of Tel Aviv to your plate\"? This slogan emphasizes the authentic and cultural aspect of the restaurant\\'s cuisine, as well as the freshness and quality of the ingredients. It also ties back to the restaurant\\'s name, creating a cohesive brand image.')])\n"
     ]
    }
   ],
   "source": [
    "response  = chain.run(\"now suggest a slogan\")\n",
    "print(response)\n",
    "print(chain.memory)"
   ]
  },
  {
   "cell_type": "code",
   "execution_count": 20,
   "metadata": {},
   "outputs": [
    {
     "name": "stdout",
     "output_type": "stream",
     "text": [
      "chat_memory=ChatMessageHistory(messages=[HumanMessage(content='suggest a name for an Israeli restaurant'), AIMessage(content=' How about \"Tel Aviv Bites\"? It\\'s a play on the city of Tel Aviv, which is known for its vibrant food scene. The name also implies that the restaurant offers a variety of small dishes or bites, which is a popular dining style in Israel.'), HumanMessage(content='now suggest a slogan'), AIMessage(content=' Sure! How about \"Taste the flavors of Israel in every bite!\" This slogan highlights the diverse and flavorful cuisine of Israel while also incorporating the restaurant\\'s name. It\\'s catchy and memorable, perfect for attracting customers.')])\n"
     ]
    }
   ],
   "source": [
    "from langchain.memory import ConversationBufferWindowMemory"
   ]
  }
 ],
 "metadata": {
  "kernelspec": {
   "display_name": "testingopenai",
   "language": "python",
   "name": "python3"
  },
  "language_info": {
   "codemirror_mode": {
    "name": "ipython",
    "version": 3
   },
   "file_extension": ".py",
   "mimetype": "text/x-python",
   "name": "python",
   "nbconvert_exporter": "python",
   "pygments_lexer": "ipython3",
   "version": "3.10.14"
  }
 },
 "nbformat": 4,
 "nbformat_minor": 2
}
