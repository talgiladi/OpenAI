{
 "cells": [
  {
   "cell_type": "code",
   "execution_count": 5,
   "metadata": {},
   "outputs": [
    {
     "name": "stderr",
     "output_type": "stream",
     "text": [
      "c:\\Users\\write\\anaconda3\\envs\\testingopenai\\lib\\site-packages\\langchain_core\\_api\\deprecation.py:117: LangChainDeprecationWarning: The function `predict` was deprecated in LangChain 0.1.7 and will be removed in 0.2.0. Use invoke instead.\n",
      "  warn_deprecated(\n"
     ]
    },
    {
     "name": "stdout",
     "output_type": "stream",
     "text": [
      "\n",
      "\n",
      "There are 48 countries in Asia.\n"
     ]
    }
   ],
   "source": [
    "import langchain\n",
    "from langchain.llms import OpenAI\n",
    "import os\n",
    "\n",
    "openai_apikey = \"\"\n",
    "with open('openaikey.txt',\"r\") as file:\n",
    "    openai_apikey = file.readline().strip()\n",
    "    os.environ[\"OPENAI_API_KEY\"] = openai_apikey\n",
    "client= OpenAI(api_key= openai_apikey)\n",
    "response = client.predict(\"how many countries are in asia?\")\n",
    "print(response)"
   ]
  },
  {
   "cell_type": "code",
   "execution_count": 12,
   "metadata": {},
   "outputs": [
    {
     "name": "stdout",
     "output_type": "stream",
     "text": [
      "What is the size of Israel\n"
     ]
    },
    {
     "data": {
      "text/plain": [
       "'\\n\\nThe total land area of Israel is 8,357 square miles (20,770 square kilometers).'"
      ]
     },
     "execution_count": 12,
     "metadata": {},
     "output_type": "execute_result"
    }
   ],
   "source": [
    "from langchain.prompts import PromptTemplate\n",
    "template = \"what is the capital of {country}\"\n",
    "prompt_template = PromptTemplate(input_variables = [\"country\"], template= template)\n",
    "prompt1 = prompt_template.format(country = \"Israel\")\n",
    "\n",
    "prompt_template2 = PromptTemplate.from_template(\"What is the size of {country}\")\n",
    "prompt2 = prompt_template2.format(country=\"Israel\")\n",
    "print(prompt2)\n",
    "client.predict(prompt2)"
   ]
  },
  {
   "cell_type": "code",
   "execution_count": null,
   "metadata": {},
   "outputs": [],
   "source": [
    "from langchain.agents import AgentType\n",
    "from langchain.agents import load_tools\n",
    "from langchain.agents import initialize_agent\n",
    "tool = load_tools({\"wikipedia\"}, llm= client)\n",
    "agent = initialize_agent(tools=tool, llm = client, agent = AgentType.ZERO_SHOT_REACT_DESCRIPTION, verbose = True)\n",
    "agent.run(\"was the an earthquake in taiwan in year 2024?\")"
   ]
  },
  {
   "cell_type": "code",
   "execution_count": 28,
   "metadata": {},
   "outputs": [
    {
     "data": {
      "text/plain": [
       "'\"Sharp Edge Co.\" or \"Precision Blades Inc.\"'"
      ]
     },
     "execution_count": 28,
     "metadata": {},
     "output_type": "execute_result"
    }
   ],
   "source": [
    "from langchain.chains import LLMChain\n",
    "template = PromptTemplate.from_template(\"what is a good name for a company that makes {product}\")\n",
    "chain = LLMChain(llm= client, prompt =template)\n",
    "chain.run(\"knives\").strip()"
   ]
  },
  {
   "cell_type": "code",
   "execution_count": 33,
   "metadata": {},
   "outputs": [
    {
     "name": "stdout",
     "output_type": "stream",
     "text": [
      "\n",
      "\n",
      "\u001b[1m> Entering new SimpleSequentialChain chain...\u001b[0m\n",
      "\n",
      "\n",
      "\u001b[1m> Entering new LLMChain chain...\u001b[0m\n",
      "Prompt after formatting:\n",
      "\u001b[32;1m\u001b[1;3msuggest a name for a restaurant specializing chinese food\u001b[0m\n",
      "\n",
      "\u001b[1m> Finished chain.\u001b[0m\n",
      "\u001b[36;1m\u001b[1;3m\n",
      "\n",
      "\"Dragon Wok\" \u001b[0m\n",
      "\u001b[33;1m\u001b[1;3m\n",
      "\n",
      "1. \"Satisfy your cravings, unleash the dragon within.\" \n",
      "2. \"Where fiery flavors meet divine dining.\" \n",
      "3. \"Experience the taste of the Orient at Dragon Wok.\" \n",
      "4. \"Bringing you the best of Chinese cuisine, one wok at a time.\" \n",
      "5. \"Ignite your taste buds at Dragon Wok.\" \n",
      "6. \"Discover the magic of authentic Chinese cooking.\" \n",
      "7. \"From the wok to your plate, every bite is a dragon's delight.\" \n",
      "8. \"Where tradition meets innovation, Dragon Wok.\" \n",
      "9. \"Join us for a fiery feast at Dragon Wok.\" \n",
      "10. \"Indulge in a dragon's feast at our table.\"\u001b[0m\n",
      "\n",
      "\u001b[1m> Finished chain.\u001b[0m\n"
     ]
    },
    {
     "data": {
      "text/plain": [
       "'\\n\\n1. \"Satisfy your cravings, unleash the dragon within.\" \\n2. \"Where fiery flavors meet divine dining.\" \\n3. \"Experience the taste of the Orient at Dragon Wok.\" \\n4. \"Bringing you the best of Chinese cuisine, one wok at a time.\" \\n5. \"Ignite your taste buds at Dragon Wok.\" \\n6. \"Discover the magic of authentic Chinese cooking.\" \\n7. \"From the wok to your plate, every bite is a dragon\\'s delight.\" \\n8. \"Where tradition meets innovation, Dragon Wok.\" \\n9. \"Join us for a fiery feast at Dragon Wok.\" \\n10. \"Indulge in a dragon\\'s feast at our table.\"'"
      ]
     },
     "execution_count": 33,
     "metadata": {},
     "output_type": "execute_result"
    }
   ],
   "source": [
    "from langchain.chains import SimpleSequentialChain\n",
    "name_prompt = PromptTemplate.from_template(\"suggest a name for a restaurant specializing {cuisine} food\")\n",
    "chain1 = LLMChain(llm = client, prompt = name_prompt, verbose= True )\n",
    "tactics_prompt = PromptTemplate.from_template(\"suggest some slogan for a restaurant named {name}\")\n",
    "chain2 = LLMChain(llm = client, prompt = tactics_prompt)\n",
    "chain = SimpleSequentialChain(chains=[chain1, chain2], verbose= True)\n",
    "chain.run(\"chinese\")"
   ]
  }
 ],
 "metadata": {
  "kernelspec": {
   "display_name": "testingopenai",
   "language": "python",
   "name": "python3"
  },
  "language_info": {
   "codemirror_mode": {
    "name": "ipython",
    "version": 3
   },
   "file_extension": ".py",
   "mimetype": "text/x-python",
   "name": "python",
   "nbconvert_exporter": "python",
   "pygments_lexer": "ipython3",
   "version": "3.10.14"
  }
 },
 "nbformat": 4,
 "nbformat_minor": 2
}
