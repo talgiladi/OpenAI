{
 "cells": [
  {
   "cell_type": "code",
   "execution_count": null,
   "metadata": {},
   "outputs": [],
   "source": [
    "# %pip install openai\n",
    "# %pip install langchain\n",
    "# %pip install pypdf\n",
    "# %pip install wikipedia"
   ]
  },
  {
   "cell_type": "code",
   "execution_count": 5,
   "metadata": {},
   "outputs": [
    {
     "name": "stderr",
     "output_type": "stream",
     "text": [
      "c:\\Users\\write\\anaconda3\\envs\\testingopenai\\lib\\site-packages\\langchain_core\\_api\\deprecation.py:117: LangChainDeprecationWarning: The function `predict` was deprecated in LangChain 0.1.7 and will be removed in 0.2.0. Use invoke instead.\n",
      "  warn_deprecated(\n"
     ]
    },
    {
     "name": "stdout",
     "output_type": "stream",
     "text": [
      "\n",
      "\n",
      "There are 48 countries in Asia.\n"
     ]
    }
   ],
   "source": [
    "import langchain\n",
    "from langchain.llms import OpenAI\n",
    "import os\n",
    "\n",
    "openai_apikey = \"\"\n",
    "with open('openaikey.txt',\"r\") as file:\n",
    "    openai_apikey = file.readline().strip()\n",
    "    os.environ[\"OPENAI_API_KEY\"] = openai_apikey\n",
    "client= OpenAI(api_key= openai_apikey)\n",
    "response = client.predict(\"how many countries are in asia?\")\n",
    "print(response)"
   ]
  },
  {
   "cell_type": "code",
   "execution_count": 12,
   "metadata": {},
   "outputs": [
    {
     "name": "stdout",
     "output_type": "stream",
     "text": [
      "What is the size of Israel\n"
     ]
    },
    {
     "data": {
      "text/plain": [
       "'\\n\\nThe total land area of Israel is 8,357 square miles (20,770 square kilometers).'"
      ]
     },
     "execution_count": 12,
     "metadata": {},
     "output_type": "execute_result"
    }
   ],
   "source": [
    "from langchain.prompts import PromptTemplate\n",
    "template = \"what is the capital of {country}\"\n",
    "prompt_template = PromptTemplate(input_variables = [\"country\"], template= template)\n",
    "prompt1 = prompt_template.format(country = \"Israel\")\n",
    "\n",
    "prompt_template2 = PromptTemplate.from_template(\"What is the size of {country}\")\n",
    "prompt2 = prompt_template2.format(country=\"Israel\")\n",
    "print(prompt2)\n",
    "client.predict(prompt2)"
   ]
  },
  {
   "cell_type": "code",
   "execution_count": null,
   "metadata": {},
   "outputs": [],
   "source": [
    "from langchain.agents import AgentType\n",
    "from langchain.agents import load_tools\n",
    "from langchain.agents import initialize_agent\n",
    "tool = load_tools({\"wikipedia\"}, llm= client)\n",
    "agent = initialize_agent(tools=tool, llm = client, agent = AgentType.ZERO_SHOT_REACT_DESCRIPTION, verbose = True)\n",
    "agent.run(\"was the an earthquake in taiwan in year 2024?\")"
   ]
  },
  {
   "cell_type": "code",
   "execution_count": 28,
   "metadata": {},
   "outputs": [
    {
     "data": {
      "text/plain": [
       "'\"Sharp Edge Co.\" or \"Precision Blades Inc.\"'"
      ]
     },
     "execution_count": 28,
     "metadata": {},
     "output_type": "execute_result"
    }
   ],
   "source": [
    "from langchain.chains import LLMChain\n",
    "template = PromptTemplate.from_template(\"what is a good name for a company that makes {product}\")\n",
    "chain = LLMChain(llm= client, prompt =template)\n",
    "chain.run(\"knives\").strip()"
   ]
  },
  {
   "cell_type": "code",
   "execution_count": 34,
   "metadata": {},
   "outputs": [
    {
     "name": "stdout",
     "output_type": "stream",
     "text": [
      "\n",
      "\n",
      "\u001b[1m> Entering new SimpleSequentialChain chain...\u001b[0m\n",
      "\n",
      "\n",
      "\u001b[1m> Entering new LLMChain chain...\u001b[0m\n",
      "Prompt after formatting:\n",
      "\u001b[32;1m\u001b[1;3msuggest a name for a restaurant specializing chinese food\u001b[0m\n",
      "\n",
      "\u001b[1m> Finished chain.\u001b[0m\n",
      "\u001b[36;1m\u001b[1;3m\n",
      "\n",
      "\"Dragon's Palace\"\u001b[0m\n",
      "\u001b[33;1m\u001b[1;3m \n",
      "\n",
      "1. \"Where Every Bite is Fit for a King\"\n",
      "2. \"Unleash Your Hunger at Dragon's Palace\"\n",
      "3. \"Taste the Fire of Flavor at Dragon's Palace\"\n",
      "4. \"Feast Like Royalty at Dragon's Palace\"\n",
      "5. \"Experience the Best of Asian Cuisine at Dragon's Palace\"\n",
      "6. \"Satisfy Your Cravings, Enter the Dragon's Palace\"\n",
      "7. \"Dine in Majesty at Dragon's Palace\"\n",
      "8. \"Discover the Magic of Dragon's Palace\"\n",
      "9. \"Where Every Dish is a Work of Art\"\n",
      "10. \"Indulge in the Majesty of Dragon's Palace\"\u001b[0m\n",
      "\n",
      "\u001b[1m> Finished chain.\u001b[0m\n"
     ]
    },
    {
     "data": {
      "text/plain": [
       "' \\n\\n1. \"Where Every Bite is Fit for a King\"\\n2. \"Unleash Your Hunger at Dragon\\'s Palace\"\\n3. \"Taste the Fire of Flavor at Dragon\\'s Palace\"\\n4. \"Feast Like Royalty at Dragon\\'s Palace\"\\n5. \"Experience the Best of Asian Cuisine at Dragon\\'s Palace\"\\n6. \"Satisfy Your Cravings, Enter the Dragon\\'s Palace\"\\n7. \"Dine in Majesty at Dragon\\'s Palace\"\\n8. \"Discover the Magic of Dragon\\'s Palace\"\\n9. \"Where Every Dish is a Work of Art\"\\n10. \"Indulge in the Majesty of Dragon\\'s Palace\"'"
      ]
     },
     "execution_count": 34,
     "metadata": {},
     "output_type": "execute_result"
    }
   ],
   "source": [
    "from langchain.chains import SimpleSequentialChain\n",
    "name_prompt = PromptTemplate.from_template(\"suggest a name for a restaurant specializing {cuisine} food\")\n",
    "chain1 = LLMChain(llm = client, prompt = name_prompt, verbose= True )\n",
    "tactics_prompt = PromptTemplate.from_template(\"suggest some slogan for a restaurant named {name}\")\n",
    "chain2 = LLMChain(llm = client, prompt = tactics_prompt)\n",
    "chain = SimpleSequentialChain(chains=[chain1, chain2], verbose= True)\n",
    "chain.run(\"chinese\")"
   ]
  },
  {
   "cell_type": "code",
   "execution_count": 37,
   "metadata": {},
   "outputs": [
    {
     "name": "stderr",
     "output_type": "stream",
     "text": [
      "c:\\Users\\write\\anaconda3\\envs\\testingopenai\\lib\\site-packages\\langchain_core\\_api\\deprecation.py:117: LangChainDeprecationWarning: The function `__call__` was deprecated in LangChain 0.1.0 and will be removed in 0.2.0. Use invoke instead.\n",
      "  warn_deprecated(\n"
     ]
    },
    {
     "name": "stdout",
     "output_type": "stream",
     "text": [
      "\n",
      "\n",
      "\u001b[1m> Entering new LLMChain chain...\u001b[0m\n",
      "Prompt after formatting:\n",
      "\u001b[32;1m\u001b[1;3msuggest a name for a restaurant specializing in italian food\u001b[0m\n",
      "\n",
      "\u001b[1m> Finished chain.\u001b[0m\n",
      "\n",
      "\n",
      "\u001b[1m> Entering new LLMChain chain...\u001b[0m\n",
      "Prompt after formatting:\n",
      "\u001b[32;1m\u001b[1;3msuggest a slogan for restaturant named \n",
      "\n",
      "\"Bella Cucina\"\u001b[0m\n",
      "\n",
      "\u001b[1m> Finished chain.\u001b[0m\n"
     ]
    },
    {
     "data": {
      "text/plain": [
       "{'cuisine': 'italian',\n",
       " 'name': '\\n\\n\"Bella Cucina\"',\n",
       " 'slogan': '\\n\\n\"Experience the Taste of Bella Cucina - Where Every Bite is a Flavorful Journey!\"'}"
      ]
     },
     "execution_count": 37,
     "metadata": {},
     "output_type": "execute_result"
    }
   ],
   "source": [
    "from langchain.chains import SequentialChain\n",
    "name_prompt = PromptTemplate.from_template(\"suggest a name for a restaurant specializing in {cuisine} food\")\n",
    "chain1 = LLMChain(llm= client, prompt = name_prompt, verbose= True, output_key= \"name\")\n",
    "\n",
    "slogan_prompt = PromptTemplate.from_template(\"suggest a slogan for restaturant named {name}\")\n",
    "chain2 = LLMChain(llm = client, prompt = slogan_prompt, verbose= True, output_key= \"slogan\")\n",
    "\n",
    "chain = SequentialChain( chains = [chain1, chain2], input_variables = [\"cuisine\"], output_variables = [\"name\",\"slogan\"] )\n",
    "chain({\"cuisine\":\"italian\"})"
   ]
  },
  {
   "cell_type": "code",
   "execution_count": 41,
   "metadata": {},
   "outputs": [
    {
     "data": {
      "text/plain": [
       "Document(page_content='LayoutParser : A Uniﬁed Toolkit for Deep\\nLearning Based Document Image Analysis\\nZejiang Shen1( \\x00), Ruochen Zhang2, Melissa Dell3, Benjamin Charles Germain\\nLee4, Jacob Carlson3, and Weining Li5\\n1Allen Institute for AI\\nshannons@allenai.org\\n2Brown University\\nruochen zhang@brown.edu\\n3Harvard University\\n{melissadell,jacob carlson }@fas.harvard.edu\\n4University of Washington\\nbcgl@cs.washington.edu\\n5University of Waterloo\\nw422li@uwaterloo.ca\\nAbstract. Recent advances in document image analysis (DIA) have been\\nprimarily driven by the application of neural networks. Ideally, research\\noutcomes could be easily deployed in production and extended for further\\ninvestigation. However, various factors like loosely organized codebases\\nand sophisticated model conﬁgurations complicate the easy reuse of im-\\nportant innovations by a wide audience. Though there have been on-going\\neﬀorts to improve reusability and simplify deep learning (DL) model\\ndevelopment in disciplines like natural language processing and computer\\nvision, none of them are optimized for challenges in the domain of DIA.\\nThis represents a major gap in the existing toolkit, as DIA is central to\\nacademic research across a wide range of disciplines in the social sciences\\nand humanities. This paper introduces LayoutParser , an open-source\\nlibrary for streamlining the usage of DL in DIA research and applica-\\ntions. The core LayoutParser library comes with a set of simple and\\nintuitive interfaces for applying and customizing DL models for layout de-\\ntection, character recognition, and many other document processing tasks.\\nTo promote extensibility, LayoutParser also incorporates a community\\nplatform for sharing both pre-trained models and full document digiti-\\nzation pipelines. We demonstrate that LayoutParser is helpful for both\\nlightweight and large-scale digitization pipelines in real-word use cases.\\nThe library is publicly available at https://layout-parser.github.io .\\nKeywords: Document Image Analysis ·Deep Learning ·Layout Analysis\\n·Character Recognition ·Open Source library ·Toolkit.\\n1 Introduction\\nDeep Learning(DL)-based approaches are the state-of-the-art for a wide range of\\ndocument image analysis (DIA) tasks including document image classiﬁcation [ 11,arXiv:2103.15348v2  [cs.CV]  21 Jun 2021', metadata={'source': 'C:\\\\Users\\\\write\\\\Downloads\\\\layout-parser-paper.pdf', 'page': 0})"
      ]
     },
     "execution_count": 41,
     "metadata": {},
     "output_type": "execute_result"
    }
   ],
   "source": [
    "from langchain.document_loaders import PyPDFLoader\n",
    "loader = PyPDFLoader(r\"C:\\Users\\write\\Downloads\\layout-parser-paper.pdf\")\n",
    "pages = loader.load_and_split()\n",
    "pages[0]"
   ]
  }
 ],
 "metadata": {
  "kernelspec": {
   "display_name": "testingopenai",
   "language": "python",
   "name": "python3"
  },
  "language_info": {
   "codemirror_mode": {
    "name": "ipython",
    "version": 3
   },
   "file_extension": ".py",
   "mimetype": "text/x-python",
   "name": "python",
   "nbconvert_exporter": "python",
   "pygments_lexer": "ipython3",
   "version": "3.10.14"
  }
 },
 "nbformat": 4,
 "nbformat_minor": 2
}
